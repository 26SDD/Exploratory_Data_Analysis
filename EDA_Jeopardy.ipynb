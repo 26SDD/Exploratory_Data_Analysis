{
 "cells": [
  {
   "cell_type": "code",
   "execution_count": 1,
   "metadata": {
    "collapsed": true
   },
   "outputs": [],
   "source": [
    "## Analysis of Jeopardy show data (216,930 questions json data) \n",
    "## taken from http://skeeto.s3.amazonaws.com/share/JEOPARDY_QUESTIONS1.json.gz\n",
    "## inspired by https://www.reddit.com/r/datasets/comments/1uyd0t/200000_jeopardy_questions_in_a_json_file\n",
    "## Uses json data with Pandas"
   ]
  },
  {
   "cell_type": "code",
   "execution_count": 2,
   "metadata": {
    "collapsed": true
   },
   "outputs": [],
   "source": [
    "import warnings\n",
    "warnings.filterwarnings('ignore')"
   ]
  },
  {
   "cell_type": "code",
   "execution_count": 3,
   "metadata": {
    "collapsed": false
   },
   "outputs": [
    {
     "name": "stderr",
     "output_type": "stream",
     "text": [
      "Vendor:  Continuum Analytics, Inc.\n",
      "Package: mkl\n",
      "Message: trial mode expires in 30 days\n"
     ]
    }
   ],
   "source": [
    "import numpy as np\n",
    "import pandas as pd\n",
    "from pandas import Series,DataFrame\n",
    "import json\n",
    "from pandas.io.json import json_normalize\n",
    "\n",
    "# Import the stats librayr from numpy\n",
    "from scipy import stats, integrate\n",
    "\n",
    "# These are the plotting modules adn libraries we'll use:\n",
    "import matplotlib as mpl\n",
    "import matplotlib.pyplot as plt\n",
    "import seaborn as sns\n",
    "#new_style = {'grid': True}\n",
    "sns.set_style('whitegrid')\n",
    "\n",
    "# Command so that plots appear in the iPython Notebook\n",
    "%matplotlib inline"
   ]
  },
  {
   "cell_type": "code",
   "execution_count": 4,
   "metadata": {
    "collapsed": false
   },
   "outputs": [],
   "source": [
    "df= pd.read_json('JEOPARDY_QUESTIONS.json')"
   ]
  },
  {
   "cell_type": "code",
   "execution_count": 5,
   "metadata": {
    "collapsed": false
   },
   "outputs": [
    {
     "data": {
      "text/html": [
       "<div>\n",
       "<table border=\"1\" class=\"dataframe\">\n",
       "  <thead>\n",
       "    <tr style=\"text-align: right;\">\n",
       "      <th></th>\n",
       "      <th>air_date</th>\n",
       "      <th>answer</th>\n",
       "      <th>category</th>\n",
       "      <th>question</th>\n",
       "      <th>round</th>\n",
       "      <th>show_number</th>\n",
       "      <th>value</th>\n",
       "    </tr>\n",
       "  </thead>\n",
       "  <tbody>\n",
       "    <tr>\n",
       "      <th>0</th>\n",
       "      <td>2004-12-31</td>\n",
       "      <td>Copernicus</td>\n",
       "      <td>HISTORY</td>\n",
       "      <td>'For the last 8 years of his life, Galileo was...</td>\n",
       "      <td>Jeopardy!</td>\n",
       "      <td>4680</td>\n",
       "      <td>$200</td>\n",
       "    </tr>\n",
       "    <tr>\n",
       "      <th>1</th>\n",
       "      <td>2004-12-31</td>\n",
       "      <td>Jim Thorpe</td>\n",
       "      <td>ESPN's TOP 10 ALL-TIME ATHLETES</td>\n",
       "      <td>'No. 2: 1912 Olympian; football star at Carlis...</td>\n",
       "      <td>Jeopardy!</td>\n",
       "      <td>4680</td>\n",
       "      <td>$200</td>\n",
       "    </tr>\n",
       "    <tr>\n",
       "      <th>2</th>\n",
       "      <td>2004-12-31</td>\n",
       "      <td>Arizona</td>\n",
       "      <td>EVERYBODY TALKS ABOUT IT...</td>\n",
       "      <td>'The city of Yuma in this state has a record a...</td>\n",
       "      <td>Jeopardy!</td>\n",
       "      <td>4680</td>\n",
       "      <td>$200</td>\n",
       "    </tr>\n",
       "    <tr>\n",
       "      <th>3</th>\n",
       "      <td>2004-12-31</td>\n",
       "      <td>McDonald\\'s</td>\n",
       "      <td>THE COMPANY LINE</td>\n",
       "      <td>'In 1963, live on \"The Art Linkletter Show\", t...</td>\n",
       "      <td>Jeopardy!</td>\n",
       "      <td>4680</td>\n",
       "      <td>$200</td>\n",
       "    </tr>\n",
       "    <tr>\n",
       "      <th>4</th>\n",
       "      <td>2004-12-31</td>\n",
       "      <td>John Adams</td>\n",
       "      <td>EPITAPHS &amp; TRIBUTES</td>\n",
       "      <td>'Signer of the Dec. of Indep., framer of the C...</td>\n",
       "      <td>Jeopardy!</td>\n",
       "      <td>4680</td>\n",
       "      <td>$200</td>\n",
       "    </tr>\n",
       "  </tbody>\n",
       "</table>\n",
       "</div>"
      ],
      "text/plain": [
       "     air_date       answer                         category  \\\n",
       "0  2004-12-31   Copernicus                          HISTORY   \n",
       "1  2004-12-31   Jim Thorpe  ESPN's TOP 10 ALL-TIME ATHLETES   \n",
       "2  2004-12-31      Arizona      EVERYBODY TALKS ABOUT IT...   \n",
       "3  2004-12-31  McDonald\\'s                 THE COMPANY LINE   \n",
       "4  2004-12-31   John Adams              EPITAPHS & TRIBUTES   \n",
       "\n",
       "                                            question      round  show_number  \\\n",
       "0  'For the last 8 years of his life, Galileo was...  Jeopardy!         4680   \n",
       "1  'No. 2: 1912 Olympian; football star at Carlis...  Jeopardy!         4680   \n",
       "2  'The city of Yuma in this state has a record a...  Jeopardy!         4680   \n",
       "3  'In 1963, live on \"The Art Linkletter Show\", t...  Jeopardy!         4680   \n",
       "4  'Signer of the Dec. of Indep., framer of the C...  Jeopardy!         4680   \n",
       "\n",
       "  value  \n",
       "0  $200  \n",
       "1  $200  \n",
       "2  $200  \n",
       "3  $200  \n",
       "4  $200  "
      ]
     },
     "execution_count": 5,
     "metadata": {},
     "output_type": "execute_result"
    }
   ],
   "source": [
    "df.head(5)"
   ]
  },
  {
   "cell_type": "code",
   "execution_count": 6,
   "metadata": {
    "collapsed": false
   },
   "outputs": [
    {
     "data": {
      "text/plain": [
       "(216930, 7)"
      ]
     },
     "execution_count": 6,
     "metadata": {},
     "output_type": "execute_result"
    }
   ],
   "source": [
    "df.shape"
   ]
  },
  {
   "cell_type": "code",
   "execution_count": 7,
   "metadata": {
    "collapsed": false
   },
   "outputs": [
    {
     "data": {
      "text/plain": [
       "<matplotlib.axes._subplots.AxesSubplot at 0x43d61c88>"
      ]
     },
     "execution_count": 7,
     "metadata": {},
     "output_type": "execute_result"
    },
    {
     "data": {
      "image/png": "[encoded data removed]",
      "text/plain": [
       "<matplotlib.figure.Figure at 0x40a52e8>"
      ]
     },
     "metadata": {},
     "output_type": "display_data"
    }
   ],
   "source": [
    "# Most popular values in jeopardy\n",
    "df.value.value_counts().head(10).sort_index().plot(kind='bar')"
   ]
  },
  {
   "cell_type": "code",
   "execution_count": 8,
   "metadata": {
    "collapsed": false
   },
   "outputs": [
    {
     "data": {
      "text/html": [
       "<div>\n",
       "<table border=\"1\" class=\"dataframe\">\n",
       "  <thead>\n",
       "    <tr style=\"text-align: right;\">\n",
       "      <th></th>\n",
       "      <th>air_date</th>\n",
       "      <th>answer</th>\n",
       "      <th>category</th>\n",
       "      <th>question</th>\n",
       "      <th>round</th>\n",
       "      <th>show_number</th>\n",
       "      <th>value</th>\n",
       "    </tr>\n",
       "  </thead>\n",
       "  <tbody>\n",
       "    <tr>\n",
       "      <th>12305</th>\n",
       "      <td>2007-11-13</td>\n",
       "      <td>The Children\\'s Hour</td>\n",
       "      <td>CHILD'S PLAY</td>\n",
       "      <td>'A Longfellow poem &amp; a Lillian Hellman play ab...</td>\n",
       "      <td>Tiebreaker</td>\n",
       "      <td>5332</td>\n",
       "      <td>None</td>\n",
       "    </tr>\n",
       "    <tr>\n",
       "      <th>184710</th>\n",
       "      <td>1997-05-19</td>\n",
       "      <td>the Articles of Confederation</td>\n",
       "      <td>THE AMERICAN REVOLUTION</td>\n",
       "      <td>'On Nov. 15, 1777 Congress adopted this consti...</td>\n",
       "      <td>Tiebreaker</td>\n",
       "      <td>2941</td>\n",
       "      <td>None</td>\n",
       "    </tr>\n",
       "    <tr>\n",
       "      <th>198973</th>\n",
       "      <td>2002-09-20</td>\n",
       "      <td>Professor Dumbledore</td>\n",
       "      <td>LITERARY CHARACTERS</td>\n",
       "      <td>'Hogwarts headmaster, he's considered by many ...</td>\n",
       "      <td>Tiebreaker</td>\n",
       "      <td>4150</td>\n",
       "      <td>None</td>\n",
       "    </tr>\n",
       "  </tbody>\n",
       "</table>\n",
       "</div>"
      ],
      "text/plain": [
       "          air_date                         answer                 category  \\\n",
       "12305   2007-11-13           The Children\\'s Hour             CHILD'S PLAY   \n",
       "184710  1997-05-19  the Articles of Confederation  THE AMERICAN REVOLUTION   \n",
       "198973  2002-09-20           Professor Dumbledore      LITERARY CHARACTERS   \n",
       "\n",
       "                                                 question       round  \\\n",
       "12305   'A Longfellow poem & a Lillian Hellman play ab...  Tiebreaker   \n",
       "184710  'On Nov. 15, 1777 Congress adopted this consti...  Tiebreaker   \n",
       "198973  'Hogwarts headmaster, he's considered by many ...  Tiebreaker   \n",
       "\n",
       "        show_number value  \n",
       "12305          5332  None  \n",
       "184710         2941  None  \n",
       "198973         4150  None  "
      ]
     },
     "execution_count": 8,
     "metadata": {},
     "output_type": "execute_result"
    }
   ],
   "source": [
    "# Number of times Tiebreaker roudn was used ever\n",
    "df[df['round']=='Tiebreaker']"
   ]
  },
  {
   "cell_type": "code",
   "execution_count": 9,
   "metadata": {
    "collapsed": false,
    "scrolled": true
   },
   "outputs": [
    {
     "data": {
      "text/plain": [
       "BEFORE & AFTER             547\n",
       "SCIENCE                    519\n",
       "LITERATURE                 496\n",
       "AMERICAN HISTORY           418\n",
       "POTPOURRI                  401\n",
       "WORLD HISTORY              377\n",
       "WORD ORIGINS               371\n",
       "COLLEGES & UNIVERSITIES    351\n",
       "HISTORY                    349\n",
       "SPORTS                     342\n",
       "Name: category, dtype: int64"
      ]
     },
     "execution_count": 9,
     "metadata": {},
     "output_type": "execute_result"
    }
   ],
   "source": [
    "# Most popular categories\n",
    "df.category.value_counts().head(10)"
   ]
  },
  {
   "cell_type": "code",
   "execution_count": 10,
   "metadata": {
    "collapsed": false
   },
   "outputs": [],
   "source": [
    "# data cleanup\n",
    "df.air_date=df.air_date.str.replace('-','')\n",
    "df.air_date = df.air_date.astype(int)\n",
    "df.value = df.value.str[1:].str.replace(',','')\n",
    "df.value=df.value.astype(float)"
   ]
  },
  {
   "cell_type": "code",
   "execution_count": 11,
   "metadata": {
    "collapsed": false
   },
   "outputs": [
    {
     "data": {
      "text/plain": [
       "(19840910, 20120127, 3640)"
      ]
     },
     "execution_count": 11,
     "metadata": {},
     "output_type": "execute_result"
    }
   ],
   "source": [
    "#data date range \n",
    "minimum,maximum,uniquedays = df.air_date.min(),df.air_date.max(),df.air_date.nunique()\n",
    "minimum,maximum,uniquedays"
   ]
  },
  {
   "cell_type": "code",
   "execution_count": 12,
   "metadata": {
    "collapsed": false
   },
   "outputs": [
    {
     "data": {
      "text/plain": [
       "air_date         int32\n",
       "answer          object\n",
       "category        object\n",
       "question        object\n",
       "round           object\n",
       "show_number      int64\n",
       "value          float64\n",
       "dtype: object"
      ]
     },
     "execution_count": 12,
     "metadata": {},
     "output_type": "execute_result"
    }
   ],
   "source": [
    "df.dtypes"
   ]
  },
  {
   "cell_type": "code",
   "execution_count": 13,
   "metadata": {
    "collapsed": false
   },
   "outputs": [
    {
     "data": {
      "text/plain": [
       "show_number\n",
       "1     48\n",
       "2     50\n",
       "3     51\n",
       "4     53\n",
       "5     54\n",
       "9     55\n",
       "10    52\n",
       "11    51\n",
       "12    57\n",
       "13    51\n",
       "dtype: int64"
      ]
     },
     "execution_count": 13,
     "metadata": {},
     "output_type": "execute_result"
    }
   ],
   "source": [
    "### maximum number of categories per show\n",
    "df['category'].groupby(df['show_number']).count().head(10)"
   ]
  },
  {
   "cell_type": "code",
   "execution_count": 14,
   "metadata": {
    "collapsed": false
   },
   "outputs": [
    {
     "data": {
      "text/plain": [
       "show_number\n",
       "1     11\n",
       "2     12\n",
       "3     13\n",
       "4     13\n",
       "5     13\n",
       "9     13\n",
       "10    13\n",
       "11    13\n",
       "12    13\n",
       "13    12\n",
       "dtype: int64"
      ]
     },
     "execution_count": 14,
     "metadata": {},
     "output_type": "execute_result"
    }
   ],
   "source": [
    "### maximum number of unique categories per show\n",
    "df['category'].groupby(df['show_number']).nunique().head(10)"
   ]
  },
  {
   "cell_type": "code",
   "execution_count": 15,
   "metadata": {
    "collapsed": false
   },
   "outputs": [
    {
     "data": {
      "text/plain": [
       "round\n",
       "Double Jeopardy!    14576\n",
       "Final Jeopardy!      1952\n",
       "Jeopardy!           15155\n",
       "Tiebreaker              3\n",
       "dtype: int64"
      ]
     },
     "execution_count": 15,
     "metadata": {},
     "output_type": "execute_result"
    }
   ],
   "source": [
    "# total number of categories per round\n",
    "df['category'].groupby(df['round']).nunique().head(10)"
   ]
  },
  {
   "cell_type": "code",
   "execution_count": 16,
   "metadata": {
    "collapsed": false
   },
   "outputs": [
    {
     "data": {
      "text/plain": [
       "27995"
      ]
     },
     "execution_count": 16,
     "metadata": {},
     "output_type": "execute_result"
    }
   ],
   "source": [
    "# total number of categories\n",
    "df.category.value_counts().count()"
   ]
  },
  {
   "cell_type": "code",
   "execution_count": 17,
   "metadata": {
    "collapsed": false
   },
   "outputs": [
    {
     "data": {
      "text/plain": [
       "<matplotlib.axes._subplots.AxesSubplot at 0x298e9e48>"
      ]
     },
     "execution_count": 17,
     "metadata": {},
     "output_type": "execute_result"
    },
    {
     "data": {
      "image/png": "[encoded data removed]",
      "text/plain": [
       "<matplotlib.figure.Figure at 0x2fa14160>"
      ]
     },
     "metadata": {},
     "output_type": "display_data"
    }
   ],
   "source": [
    "df['value'].groupby([df['show_number'],df['round']]).max().value_counts().head(10).plot(kind='bar')"
   ]
  },
  {
   "cell_type": "code",
   "execution_count": 18,
   "metadata": {
    "collapsed": false
   },
   "outputs": [
    {
     "data": {
      "text/plain": [
       "<matplotlib.axes._subplots.AxesSubplot at 0x2cb8e668>"
      ]
     },
     "execution_count": 18,
     "metadata": {},
     "output_type": "execute_result"
    },
    {
     "data": {
      "image/png": "[encoded data removed]",
      "text/plain": [
       "<matplotlib.figure.Figure at 0x2c4a9668>"
      ]
     },
     "metadata": {},
     "output_type": "display_data"
    }
   ],
   "source": [
    "df['value'].groupby(df['show_number']).max().value_counts().head(10).plot(kind='bar')"
   ]
  },
  {
   "cell_type": "code",
   "execution_count": 19,
   "metadata": {
    "collapsed": false
   },
   "outputs": [
    {
     "data": {
      "text/html": [
       "<div>\n",
       "<table border=\"1\" class=\"dataframe\">\n",
       "  <thead>\n",
       "    <tr style=\"text-align: right;\">\n",
       "      <th>round</th>\n",
       "      <th>Double Jeopardy!</th>\n",
       "      <th>Final Jeopardy!</th>\n",
       "      <th>Jeopardy!</th>\n",
       "      <th>Tiebreaker</th>\n",
       "    </tr>\n",
       "    <tr>\n",
       "      <th>show_number</th>\n",
       "      <th></th>\n",
       "      <th></th>\n",
       "      <th></th>\n",
       "      <th></th>\n",
       "    </tr>\n",
       "  </thead>\n",
       "  <tbody>\n",
       "    <tr>\n",
       "      <th>3043</th>\n",
       "      <td>5</td>\n",
       "      <td>1</td>\n",
       "      <td>4</td>\n",
       "      <td>NaN</td>\n",
       "    </tr>\n",
       "    <tr>\n",
       "      <th>3022</th>\n",
       "      <td>NaN</td>\n",
       "      <td>NaN</td>\n",
       "      <td>4</td>\n",
       "      <td>NaN</td>\n",
       "    </tr>\n",
       "    <tr>\n",
       "      <th>1178</th>\n",
       "      <td>NaN</td>\n",
       "      <td>NaN</td>\n",
       "      <td>4</td>\n",
       "      <td>NaN</td>\n",
       "    </tr>\n",
       "    <tr>\n",
       "      <th>5098</th>\n",
       "      <td>5</td>\n",
       "      <td>1</td>\n",
       "      <td>4</td>\n",
       "      <td>NaN</td>\n",
       "    </tr>\n",
       "    <tr>\n",
       "      <th>1</th>\n",
       "      <td>5</td>\n",
       "      <td>1</td>\n",
       "      <td>5</td>\n",
       "      <td>NaN</td>\n",
       "    </tr>\n",
       "    <tr>\n",
       "      <th>3790</th>\n",
       "      <td>6</td>\n",
       "      <td>1</td>\n",
       "      <td>5</td>\n",
       "      <td>NaN</td>\n",
       "    </tr>\n",
       "    <tr>\n",
       "      <th>4543</th>\n",
       "      <td>6</td>\n",
       "      <td>1</td>\n",
       "      <td>5</td>\n",
       "      <td>NaN</td>\n",
       "    </tr>\n",
       "    <tr>\n",
       "      <th>2809</th>\n",
       "      <td>6</td>\n",
       "      <td>1</td>\n",
       "      <td>5</td>\n",
       "      <td>NaN</td>\n",
       "    </tr>\n",
       "    <tr>\n",
       "      <th>1106</th>\n",
       "      <td>6</td>\n",
       "      <td>1</td>\n",
       "      <td>5</td>\n",
       "      <td>NaN</td>\n",
       "    </tr>\n",
       "    <tr>\n",
       "      <th>1105</th>\n",
       "      <td>6</td>\n",
       "      <td>1</td>\n",
       "      <td>5</td>\n",
       "      <td>NaN</td>\n",
       "    </tr>\n",
       "  </tbody>\n",
       "</table>\n",
       "</div>"
      ],
      "text/plain": [
       "round        Double Jeopardy!  Final Jeopardy!  Jeopardy!  Tiebreaker\n",
       "show_number                                                          \n",
       "3043                        5                1          4         NaN\n",
       "3022                      NaN              NaN          4         NaN\n",
       "1178                      NaN              NaN          4         NaN\n",
       "5098                        5                1          4         NaN\n",
       "1                           5                1          5         NaN\n",
       "3790                        6                1          5         NaN\n",
       "4543                        6                1          5         NaN\n",
       "2809                        6                1          5         NaN\n",
       "1106                        6                1          5         NaN\n",
       "1105                        6                1          5         NaN"
      ]
     },
     "execution_count": 19,
     "metadata": {},
     "output_type": "execute_result"
    }
   ],
   "source": [
    "# maximum number of categories per show and round\n",
    "df['category'].groupby([df['show_number'],df['round']]).nunique().unstack().sort_values(['Jeopardy!'], ascending=True).head(10)"
   ]
  },
  {
   "cell_type": "code",
   "execution_count": 20,
   "metadata": {
    "collapsed": false
   },
   "outputs": [
    {
     "data": {
      "image/png": "[encoded data removed]",
      "text/plain": [
       "<matplotlib.figure.Figure at 0x2b9dfe48>"
      ]
     },
     "metadata": {},
     "output_type": "display_data"
    }
   ],
   "source": [
    "# Is there a 1-1 correpondence between show number an dairdate? -Ans Yes\n",
    "sns.jointplot(x=\"show_number\", y=\"air_date\", data=df, kind = \"reg\",color='g');"
   ]
  }
 ],
 "metadata": {
  "kernelspec": {
   "display_name": "Python 2",
   "language": "python",
   "name": "python2"
  },
  "language_info": {
   "codemirror_mode": {
    "name": "ipython",
    "version": 2
   },
   "file_extension": ".py",
   "mimetype": "text/x-python",
   "name": "python",
   "nbconvert_exporter": "python",
   "pygments_lexer": "ipython2",
   "version": "2.7.11"
  }
 },
 "nbformat": 4,
 "nbformat_minor": 0
}
