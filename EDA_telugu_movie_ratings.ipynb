{
 "cells": [
  {
   "cell_type": "code",
   "execution_count": 1,
   "metadata": {
    "collapsed": true
   },
   "outputs": [],
   "source": [
    "# Analysis to compare ratings between Greatandhra.com and Idlebrain.com \n",
    "# Step 1) Run greatandhra.py to generate movie and ratings dictionary.\n",
    "# Step 2) Copy data from http://www.idlebrain.com/movie/archive/ to clipboard\n",
    "# Step 3) Run below notebook\n",
    "# Output: Idlebrain is more relaxed than Greatandhra is concluded."
   ]
  },
  {
   "cell_type": "code",
   "execution_count": 2,
   "metadata": {
    "collapsed": true
   },
   "outputs": [],
   "source": [
    "import warnings\n",
    "warnings.filterwarnings('ignore')"
   ]
  },
  {
   "cell_type": "code",
   "execution_count": 16,
   "metadata": {
    "collapsed": false
   },
   "outputs": [],
   "source": [
    "import pandas as pd\n",
    "from pandas import Series,DataFrame\n",
    "import matplotlib.pyplot as plt\n",
    "%matplotlib inline"
   ]
  },
  {
   "cell_type": "code",
   "execution_count": null,
   "metadata": {
    "collapsed": false
   },
   "outputs": [],
   "source": [
    "'''\n",
    "from bs4 import BeautifulSoup\n",
    "import re\n",
    "import requests\n",
    "\n",
    "page1 = []\n",
    "ratings = {}\n",
    "\n",
    "num = range(1,2)\n",
    "\n",
    "url_base = 'http://www.greatandhra.com/reviews/'\n",
    "\n",
    "for i in num:\n",
    "    url = url_base + str(i)\n",
    "    print url\n",
    "    r = requests.get(url)\n",
    "    soup = BeautifulSoup(r.text, \"lxml\")\n",
    "\n",
    "    links = soup.find_all('a',attrs={'style':'color:#024D99; '})\n",
    "    for link in links:\n",
    "        page1.append(link['href'])\n",
    "print page1\n",
    "\n",
    "for link in page1:\n",
    "    url = link\n",
    "    r = requests.get(url)\n",
    "    soup = BeautifulSoup(r.text, \"lxml\")\n",
    "    if \"Rating\" in soup.text.encode('ascii', 'ignore').decode('ascii'):\n",
    "        try:\n",
    "            rat = soup.find('strong')\n",
    "            rating = rat.span.string\n",
    "            movie = rat.find(text = re.compile('Film')) or rat.find(text = re.compile('Movie')) or \"N/A\"\n",
    "            ratings.update({movie: rating})\n",
    "            print ratings\n",
    "        except:\n",
    "            print \"error found in url\", link\n",
    "'''"
   ]
  },
  {
   "cell_type": "code",
   "execution_count": 5,
   "metadata": {
    "collapsed": true
   },
   "outputs": [],
   "source": [
    "#Below dic is derived from above program, to save scraping time the dictionary is substituted with its output\n",
    "dic={u'Movie: Tanu Weds Manu Returns': u'3/5', u'Movie: Jadoogadu\\xa0': u'2/5', u'Movie: Hora Hori\\xa0\\xa0 \\xa0': u'1.5/5', u'Film: Prema Ishq Kadal': u'2.5/5', u'Film: Thoofan': u'2/5', u'Movie: Joru': u'2/5', u'Movie: Kalavathi': u'2.5/5', u'Movie: Size Zero (Sannajaji Nadumu)': u'2.5/5', u'Movie: Shourya': u'2/5', u'Film: Second Hand': u'2.5/5', u'Movies: Anamika': u'2.75/5', u'Movie: Rough': u'2/5', u'Movie: Courier Boy Kalyan': u'2.5/5', u'Movie: Krishna Gaadi Veera Prema Gaadha': u'3/5', u'Movie: Kick 2': u'2.5/5', u'Movie: Drishyam': u'3.25/5', u'Film: Minugurulu': u'3/5', u'Movie: Buchamma Buchodu': u'2/5', u'Movie: Kanche\\xa0': u'3/5', u'Film: Basanti': u'2.5/5', u'Film: Puli': u'1.5/5', u'Movie: Avunu 2': u'2/5', u'Movie: Bruce Lee - The Fighter': u'2.5/5', u'Movie: Oka Laila Kosam': u'3/5', u'Movie: Mukunda': u'2.5/5', u'Movie: Current Theega': u'3/5', u'Film: Paisa': u'2.5/5', u'Film: Laddu Babu': u'2/5', u'Film: Katti Batti': u'1.5/5', u'Film: Chandamama Kathalu': u'2.5/5', u'Film: Pandavulu Pandavulu Thummeda': u'2.75/5', u'Movie: Adda': u'2.5/5', u'Movie: Karthikeya': u'3.25/5', u'Movie: Jyothi Lakshmi': u'2.5/5', u'Film:': u' Indrudu', u'Movie: Lion': u'2/5', u'Movie: Jenda Pai Kapiraju': u'2.5/5', u'Movie: Seethamma Andalu Ramayya Sitralu': u'2.25/5', u'Movie: Gaddam Gang': u'2/5', u'Movie: Bham Bholenath': u'2/5', u'Movies: Hrudaya Kaleyam': u'3/5', u'Movie: Lingaa': u'2.5/5', u'Movie: Dikkulu Choodaku Ramayya': u'3/5', u'Film: Jagadguru Adi Sankara': u'2.5/5', u'Movie: Palnadu': u'2.5/5', u'Movie: Mosagallaku Mosagadu': u'2.75/5', u'Movie: Ganga': u'3/5', u'Movie: Subramanyam For Sale': u'2.75/5', u'Movie: ': u'Oohalu Gusagusalade', u'Film: Heart Attack': u'2.5/5', u'Movie: Dynamite': u'2.5/5', u'Film: Venkatadri Express': u'3/5', u'Movie: Vikrama Simha': u'2/5', u'Film: Guntur Talkies': u'2.5/5', u'Movie: Power': u'3/5', u'Movie: Raja Rani': u'3/5', u'Movie: Aagadu': u'2.75/5', u'Film: Hero\\xa0': u'2/5', u'Film: Aadu Magadura Bujji': u'2/5', u'Movie: Lakshmi Raave Maa Intiki': u'2.5/5', u'Movie: Malli Malli Idi Raani Roju': u'3/5', u'Film: Calendar Girls': u'2/5', u'Movie: Tripura': u'2.25/5', u'Movie: Rakshasudu': u'3/5', u'Movie: Vila (Pizza 2)': u'3/5', u'Movie: Kerintha': u'3/5', u'Movies: Singham': u'2.5/5', u'Movie: Tiger': u'3/5', u'Movie: Pyar Mein Padipoyane': u'2.5/5', u'Film: Prathinidhi \\xa0': u'2.75/5', u'Movie: Anukshanam': u'2.5/5', u'Movie: Tuntari': u'2.5/5', u'Movie: Run Raja Run': u'3.25/5', u'Movie: Amrutam Chandamamalo': u'2/5', u'Movie: OK Bangaram': u'3.25/5', u'Film: Anna': u'2/5', u'Movie: Dongaata': u'3/5', u'Film: Om 3D': u'2/5', u'Movie: S/O Satyamurthy': u'2.75/5', u'Movie: 365 Days': u'1/5', u'Movie: Paathshala': u'2.5/5', u'Movie: Chinnadana Nee Kosam': u'2.5/5', u'Movie: Akhil': u'2.5/5', u'Movies: Rowdy': u'3/5', u'Film: Shaandaar': u'2/5', u'Film: Daughter Of Varma': u'1.5/5', u'Film: Yevadu': u'3/5', u'Movie: Govindudu Andari Vaadele': u'2.75/5', u'Film: Kalicharan': u'2/5', u'Movie: Bengal Tiger': u'3/5', u'Movie: Abbayitho Ammayi': u'2.25/5', u'Film: Hate Story 3\\xa0': u'1.5/5', u'Movie: Speedunnodu': u'2.5/5', u'Movie: Manam': u'4/5', u'Movie: Ladies and Gentlemen': u'3/5', u'Film: Express Raja': u'3/5', u'Movie: Ra Ra Krishnaiah': u'2/5', u'Movie: Surya Vs Surya': u'2.5/5', u'Movie: Rudramadevi': u'2.5/5', u'Movie: PK': u'4/5', u'Movie: Krishnashtami': u'2/5', u'Movie: Kalyana Vaibhogame': u'3/5', u'Movie: Legend': u'3/5', u'Film: Krrish': u'1/5', u'Film: Aaha Kalyanam': u'2.5/5', u'Movie: Dictator': u'2.5/5', u'Movie: Loafer': u'2.5/5', u'Movie: Satya 2': u'1.5/5', u'Movie: James Bond': u'2.5/5', u'Movie: Kotha Janta': u'2.75/5', u'Movie: Alludu Seenu': u'2.75/5', u'Movie: Sher': u'1.5/5', u'Movie: Padesave': u'2/5', u'Movie: Lachhimdeviki O Lekkundi': u'1.5/5', u'Movie: Killing Veerappan': u'2.75/5', u'Movie: Bhale Bhale Magadivoy': u'3.25/5', u'Movie: Andhra Pori': u'2/5', u'Film: Love U Bangaram': u'0.5/5', u'Movie: Mantra 2': u'2/5', u'Film: Dhoom 3': u'3/5', u'Movie: Dohchay': u'2.75/5', u'Film: Race Gurram\\xa0': u'3.25/5', u'Film: Emo Gurram Egaravachchu': u'2/5', u'Movie: Ram Leela': u'1/5', u'Movie: Pandaga Chesko': u'2.75/5', u'Movie: Yamaleela 2': u'2/5', u'Movie: Gopala Gopala': u'3/5', u'Movie: Uttama Villain': u'2.5/5', u'Movie: Lovers': u'2.75/5', u'Movies: Alias Janaki': u'1/5', u'Movie: Gaalipatam': u'2.75/5', u'Movie: Srimanthudu\\xa0': u'3.25/5', u'Film: Jatha Kalise\\xa0': u'2.5/5', u'Movies: Bangaru Kodi Petta': u'2.25/5', u'Movie: Romeo': u'1.5/5', u'Movie: Bandipotu': u'2.75/5', u'Movies: Masala': u'2.75/5', u'Movie: Rabhasa': u'2.75/5', u'Movie: Maaya': u'2.5/5', u'Movie: Kumari 21F': u'3/5', u'Film: Bheemavaram Bullodu': u'2/5', u'Movie: Nee Jathaga Nenundali': u'2/5', u'Film: Bunny And Cherry': u'0.5/5', u'Movie: Soggade Chinni Nayana': u'3/5', u'Movie: Daagudumoota Dandakor': u'2.5/5', u'Movie: Uyyala Jampala': u'3/5', u'Movie: Krishnamma Kalipindi Iddarini': u'2.75/5', u'Movie: Basthi': u'1/5', u'Movie: Jumpu Jeelani': u'2/5', u'Movie: Sikander': u'2/5', u'Film: D For Dopidi': u'2.5/5', u'Movie: Chandrakala': u'2/5', u'Film: Attarintiki Daredi': u'3.5/5', u'Movie: Sankarabharanam': u'2/5', u'Movie: Hum Tum': u'0.5/5', u'Movie: Soukyam': u'1.5/5', u'Movie: Cheekati Rajyam': u'2.75/5', u'Movie: Patas': u'3.25/5', u'Movie: Bajrangi Bhaijaan': u'3.25/5', u'Movie:': u' Pora Pove', u'Movie: Garam': u'2/5', u'Movie: Nenu Sailaja': u'3.25/5', u'Movie: Pooja': u'2/5', u'Movie: Cinema Choopista Mava': u'2.75/5', u'Film: 1000 abaddalu': u'2/5', u'Movie: Jil': u'3/5', u'Movie: Geetanjali': u'2.5/5', u'Movie: Loukyam': u'3/5', u'Movie: I': u'2.5/5', u'Movie: Asura': u'2.75/5', u'Movie: Ice Cream': u'0/5', u'Movie: Temper': u'3.25/5', u'Film: Romance': u'1/5', u'Film: 1-Nenokkadine\\xa0': u'2.5/5', u'Movie: Chennai Express': u'3/5', u'Movie: Ulavacharu Biryani': u'2.5/5', u'Movie: Vinavayya Ramayya': u'2/5', u'Movie: Rey\\xa0': u'2/5', u'Movies: Pilla Nuvvu Leni Jeevitam': u'3/5', u'Movie: Biryani': u'2.5/5', 'N/A': u'1/5', u'Movie: Kshanam': u'3/5', u'Movie: Rowdy Fellow': u'2.5/5', u'Film: ': u'\"Singh is Bliing\"\\xa0', u'Movie: Brother Of Bommali': u'2.5/5', u'Film: Varna': u'0.5/5', u'Movie: Tungabhadra': u'2/5', u'Movie: Erra Bus': u'2/5', u'Movie: Yevade Subramanyam': u'3/5', u'Movie: Ice Cream 2': u'1/5', u'Movie: Bhadram': u'2.75/5', u'Movie: Baahubali': u'3.25/5', u'Movie: Auto Nagar Surya': u'2.5/5', u'Film: Bhale Manchi Roju': u'3/5', u'Movie: Beeruva': u'2/5', u'Movie: Jilla': u'2.75/5', u'Movie: Shivam': u'2/5'}"
   ]
  },
  {
   "cell_type": "code",
   "execution_count": 6,
   "metadata": {
    "collapsed": false
   },
   "outputs": [
    {
     "data": {
      "text/html": [
       "<div>\n",
       "<table border=\"1\" class=\"dataframe\">\n",
       "  <thead>\n",
       "    <tr style=\"text-align: right;\">\n",
       "      <th></th>\n",
       "      <th>Film:</th>\n",
       "      <th>Film:</th>\n",
       "      <th>Film: 1-Nenokkadine</th>\n",
       "      <th>Film: 1000 abaddalu</th>\n",
       "      <th>Film: Aadu Magadura Bujji</th>\n",
       "      <th>Film: Aaha Kalyanam</th>\n",
       "      <th>Film: Anna</th>\n",
       "      <th>Film: Attarintiki Daredi</th>\n",
       "      <th>Film: Basanti</th>\n",
       "      <th>Film: Bhale Manchi Roju</th>\n",
       "      <th>...</th>\n",
       "      <th>Movie: Yevade Subramanyam</th>\n",
       "      <th>Movies: Alias Janaki</th>\n",
       "      <th>Movies: Anamika</th>\n",
       "      <th>Movies: Bangaru Kodi Petta</th>\n",
       "      <th>Movies: Hrudaya Kaleyam</th>\n",
       "      <th>Movies: Masala</th>\n",
       "      <th>Movies: Pilla Nuvvu Leni Jeevitam</th>\n",
       "      <th>Movies: Rowdy</th>\n",
       "      <th>Movies: Singham</th>\n",
       "      <th>N/A</th>\n",
       "    </tr>\n",
       "  </thead>\n",
       "  <tbody>\n",
       "    <tr>\n",
       "      <th>0</th>\n",
       "      <td>Indrudu</td>\n",
       "      <td>\"Singh is Bliing\"</td>\n",
       "      <td>2.5/5</td>\n",
       "      <td>2/5</td>\n",
       "      <td>2/5</td>\n",
       "      <td>2.5/5</td>\n",
       "      <td>2/5</td>\n",
       "      <td>3.5/5</td>\n",
       "      <td>2.5/5</td>\n",
       "      <td>3/5</td>\n",
       "      <td>...</td>\n",
       "      <td>3/5</td>\n",
       "      <td>1/5</td>\n",
       "      <td>2.75/5</td>\n",
       "      <td>2.25/5</td>\n",
       "      <td>3/5</td>\n",
       "      <td>2.75/5</td>\n",
       "      <td>3/5</td>\n",
       "      <td>3/5</td>\n",
       "      <td>2.5/5</td>\n",
       "      <td>1/5</td>\n",
       "    </tr>\n",
       "  </tbody>\n",
       "</table>\n",
       "<p>1 rows × 197 columns</p>\n",
       "</div>"
      ],
      "text/plain": [
       "      Film:              Film:  Film: 1-Nenokkadine  Film: 1000 abaddalu  \\\n",
       "0   Indrudu  \"Singh is Bliing\"                 2.5/5                 2/5   \n",
       "\n",
       "  Film: Aadu Magadura Bujji Film: Aaha Kalyanam Film: Anna  \\\n",
       "0                       2/5               2.5/5        2/5   \n",
       "\n",
       "  Film: Attarintiki Daredi Film: Basanti Film: Bhale Manchi Roju ...   \\\n",
       "0                    3.5/5         2.5/5                     3/5 ...    \n",
       "\n",
       "  Movie: Yevade Subramanyam Movies: Alias Janaki Movies: Anamika  \\\n",
       "0                       3/5                  1/5          2.75/5   \n",
       "\n",
       "  Movies: Bangaru Kodi Petta Movies: Hrudaya Kaleyam Movies: Masala  \\\n",
       "0                     2.25/5                     3/5         2.75/5   \n",
       "\n",
       "  Movies: Pilla Nuvvu Leni Jeevitam Movies: Rowdy Movies: Singham  N/A  \n",
       "0                               3/5           3/5           2.5/5  1/5  \n",
       "\n",
       "[1 rows x 197 columns]"
      ]
     },
     "execution_count": 6,
     "metadata": {},
     "output_type": "execute_result"
    }
   ],
   "source": [
    "df = pd.DataFrame.from_records([dic])\n",
    "df.head()"
   ]
  },
  {
   "cell_type": "code",
   "execution_count": 7,
   "metadata": {
    "collapsed": false,
    "scrolled": true
   },
   "outputs": [
    {
     "data": {
      "text/html": [
       "<div>\n",
       "<table border=\"1\" class=\"dataframe\">\n",
       "  <thead>\n",
       "    <tr style=\"text-align: right;\">\n",
       "      <th></th>\n",
       "      <th>film</th>\n",
       "      <th>rating</th>\n",
       "    </tr>\n",
       "  </thead>\n",
       "  <tbody>\n",
       "    <tr>\n",
       "      <th>2</th>\n",
       "      <td>Film: 1-Nenokkadine</td>\n",
       "      <td>2.5/5</td>\n",
       "    </tr>\n",
       "    <tr>\n",
       "      <th>3</th>\n",
       "      <td>Film: 1000 abaddalu</td>\n",
       "      <td>2/5</td>\n",
       "    </tr>\n",
       "    <tr>\n",
       "      <th>4</th>\n",
       "      <td>Film: Aadu Magadura Bujji</td>\n",
       "      <td>2/5</td>\n",
       "    </tr>\n",
       "  </tbody>\n",
       "</table>\n",
       "</div>"
      ],
      "text/plain": [
       "                        film rating\n",
       "2       Film: 1-Nenokkadine   2.5/5\n",
       "3        Film: 1000 abaddalu    2/5\n",
       "4  Film: Aadu Magadura Bujji    2/5"
      ]
     },
     "execution_count": 7,
     "metadata": {},
     "output_type": "execute_result"
    }
   ],
   "source": [
    "tf = df.T\n",
    "tf1=tf.reset_index()\n",
    "tf1.columns=['film','rating']\n",
    "cf = tf1[2:]\n",
    "cf.head(3)"
   ]
  },
  {
   "cell_type": "code",
   "execution_count": 8,
   "metadata": {
    "collapsed": false
   },
   "outputs": [
    {
     "data": {
      "text/html": [
       "<div>\n",
       "<table border=\"1\" class=\"dataframe\">\n",
       "  <thead>\n",
       "    <tr style=\"text-align: right;\">\n",
       "      <th></th>\n",
       "      <th>film</th>\n",
       "      <th>rating</th>\n",
       "    </tr>\n",
       "  </thead>\n",
       "  <tbody>\n",
       "    <tr>\n",
       "      <th>2</th>\n",
       "      <td>Film: 1-Nenokkadine</td>\n",
       "      <td>2.5</td>\n",
       "    </tr>\n",
       "    <tr>\n",
       "      <th>3</th>\n",
       "      <td>Film: 1000 abaddalu</td>\n",
       "      <td>2</td>\n",
       "    </tr>\n",
       "    <tr>\n",
       "      <th>4</th>\n",
       "      <td>Film: Aadu Magadura Bujji</td>\n",
       "      <td>2</td>\n",
       "    </tr>\n",
       "  </tbody>\n",
       "</table>\n",
       "</div>"
      ],
      "text/plain": [
       "                        film rating\n",
       "2       Film: 1-Nenokkadine     2.5\n",
       "3        Film: 1000 abaddalu      2\n",
       "4  Film: Aadu Magadura Bujji      2"
      ]
     },
     "execution_count": 8,
     "metadata": {},
     "output_type": "execute_result"
    }
   ],
   "source": [
    "cf.rating = cf.rating.apply(lambda x : x.split('/')[0])\n",
    "cf.head(3)"
   ]
  },
  {
   "cell_type": "code",
   "execution_count": 9,
   "metadata": {
    "collapsed": false
   },
   "outputs": [
    {
     "data": {
      "text/html": [
       "<div>\n",
       "<table border=\"1\" class=\"dataframe\">\n",
       "  <thead>\n",
       "    <tr style=\"text-align: right;\">\n",
       "      <th></th>\n",
       "      <th>film</th>\n",
       "      <th>rating</th>\n",
       "    </tr>\n",
       "  </thead>\n",
       "  <tbody>\n",
       "    <tr>\n",
       "      <th>2</th>\n",
       "      <td>Film: 1-Nenokkadine</td>\n",
       "      <td>2.5</td>\n",
       "    </tr>\n",
       "    <tr>\n",
       "      <th>3</th>\n",
       "      <td>Film: 1000 abaddalu</td>\n",
       "      <td>2</td>\n",
       "    </tr>\n",
       "    <tr>\n",
       "      <th>4</th>\n",
       "      <td>Film: Aadu Magadura Bujji</td>\n",
       "      <td>2</td>\n",
       "    </tr>\n",
       "  </tbody>\n",
       "</table>\n",
       "</div>"
      ],
      "text/plain": [
       "                        film rating\n",
       "2       Film: 1-Nenokkadine     2.5\n",
       "3        Film: 1000 abaddalu      2\n",
       "4  Film: Aadu Magadura Bujji      2"
      ]
     },
     "execution_count": 9,
     "metadata": {},
     "output_type": "execute_result"
    }
   ],
   "source": [
    "cf = cf[cf.rating != 'Oohalu Gusagusalade']\n",
    "cf = cf[cf.rating != ' Pora Pove']\n",
    "cf.head(3)"
   ]
  },
  {
   "cell_type": "code",
   "execution_count": 10,
   "metadata": {
    "collapsed": false,
    "scrolled": true
   },
   "outputs": [
    {
     "data": {
      "text/html": [
       "<div>\n",
       "<table border=\"1\" class=\"dataframe\">\n",
       "  <thead>\n",
       "    <tr style=\"text-align: right;\">\n",
       "      <th></th>\n",
       "      <th>film</th>\n",
       "      <th>rating</th>\n",
       "    </tr>\n",
       "  </thead>\n",
       "  <tbody>\n",
       "    <tr>\n",
       "      <th>2</th>\n",
       "      <td>Film: 1-Nenokkadine</td>\n",
       "      <td>2.5</td>\n",
       "    </tr>\n",
       "    <tr>\n",
       "      <th>3</th>\n",
       "      <td>Film: 1000 abaddalu</td>\n",
       "      <td>2.0</td>\n",
       "    </tr>\n",
       "    <tr>\n",
       "      <th>4</th>\n",
       "      <td>Film: Aadu Magadura Bujji</td>\n",
       "      <td>2.0</td>\n",
       "    </tr>\n",
       "  </tbody>\n",
       "</table>\n",
       "</div>"
      ],
      "text/plain": [
       "                        film  rating\n",
       "2       Film: 1-Nenokkadine      2.5\n",
       "3        Film: 1000 abaddalu     2.0\n",
       "4  Film: Aadu Magadura Bujji     2.0"
      ]
     },
     "execution_count": 10,
     "metadata": {},
     "output_type": "execute_result"
    }
   ],
   "source": [
    "cf.rating =cf.rating.astype(float).fillna(0.0)\n",
    "cf.convert_objects(convert_numeric=True)\n",
    "cf.head(3)"
   ]
  },
  {
   "cell_type": "code",
   "execution_count": 11,
   "metadata": {
    "collapsed": true
   },
   "outputs": [],
   "source": [
    "from bs4 import BeautifulSoup as bsoup\n",
    "import requests as rq\n",
    "import re\n",
    "\n",
    "url = 'http://www.idlebrain.com/movie/archive/'\n",
    "r = rq.get(url)\n",
    "records=[]\n",
    "\n",
    "soup = bsoup(r.text, \"lxml\")\n",
    "\n",
    "table = soup.find_all('table')\n",
    "table1 =  table[1].find_all('tr')\n",
    "\n",
    "\n",
    "for tr in table1:\n",
    "    for td in tr:\n",
    "        if td.string != \"\\n\":\n",
    "            temp = td.string\n",
    "            temp = str(temp).replace(' \\r\\n','').replace(' ','')\n",
    "            records.append(temp)\n",
    "records_formatted = [records[i:i+4] for i in range(36,len(records),4)]"
   ]
  },
  {
   "cell_type": "code",
   "execution_count": 12,
   "metadata": {
    "collapsed": false
   },
   "outputs": [
    {
     "data": {
      "text/html": [
       "<div>\n",
       "<table border=\"1\" class=\"dataframe\">\n",
       "  <thead>\n",
       "    <tr style=\"text-align: right;\">\n",
       "      <th></th>\n",
       "      <th>0</th>\n",
       "      <th>1</th>\n",
       "      <th>2</th>\n",
       "      <th>3</th>\n",
       "    </tr>\n",
       "  </thead>\n",
       "  <tbody>\n",
       "    <tr>\n",
       "      <th>0</th>\n",
       "      <td>825</td>\n",
       "      <td>Oopiri</td>\n",
       "      <td>25-03-2016</td>\n",
       "      <td>Threeandhalf</td>\n",
       "    </tr>\n",
       "    <tr>\n",
       "      <th>1</th>\n",
       "      <td>824</td>\n",
       "      <td>GunturTalkies</td>\n",
       "      <td>04-03-2016</td>\n",
       "      <td>A</td>\n",
       "    </tr>\n",
       "    <tr>\n",
       "      <th>2</th>\n",
       "      <td>823</td>\n",
       "      <td>KalyanaVaibhogame</td>\n",
       "      <td>04-03-2016</td>\n",
       "      <td>Three</td>\n",
       "    </tr>\n",
       "  </tbody>\n",
       "</table>\n",
       "</div>"
      ],
      "text/plain": [
       "     0                  1           2             3\n",
       "0  825             Oopiri  25-03-2016  Threeandhalf\n",
       "1  824      GunturTalkies  04-03-2016             A\n",
       "2  823  KalyanaVaibhogame  04-03-2016         Three"
      ]
     },
     "execution_count": 12,
     "metadata": {},
     "output_type": "execute_result"
    }
   ],
   "source": [
    "ible = pd.DataFrame(records_formatted)\n",
    "ible.head(3)"
   ]
  },
  {
   "cell_type": "code",
   "execution_count": 13,
   "metadata": {
    "collapsed": false
   },
   "outputs": [
    {
     "data": {
      "text/html": [
       "<div>\n",
       "<table border=\"1\" class=\"dataframe\">\n",
       "  <thead>\n",
       "    <tr style=\"text-align: right;\">\n",
       "      <th></th>\n",
       "      <th>number</th>\n",
       "      <th>movie</th>\n",
       "      <th>date</th>\n",
       "      <th>rating</th>\n",
       "    </tr>\n",
       "  </thead>\n",
       "  <tbody>\n",
       "    <tr>\n",
       "      <th>0</th>\n",
       "      <td>825</td>\n",
       "      <td>Oopiri</td>\n",
       "      <td>25-03-2016</td>\n",
       "      <td>Threeandhalf</td>\n",
       "    </tr>\n",
       "    <tr>\n",
       "      <th>1</th>\n",
       "      <td>824</td>\n",
       "      <td>GunturTalkies</td>\n",
       "      <td>04-03-2016</td>\n",
       "      <td>A</td>\n",
       "    </tr>\n",
       "    <tr>\n",
       "      <th>2</th>\n",
       "      <td>823</td>\n",
       "      <td>KalyanaVaibhogame</td>\n",
       "      <td>04-03-2016</td>\n",
       "      <td>Three</td>\n",
       "    </tr>\n",
       "  </tbody>\n",
       "</table>\n",
       "</div>"
      ],
      "text/plain": [
       "  number              movie        date        rating\n",
       "0    825             Oopiri  25-03-2016  Threeandhalf\n",
       "1    824      GunturTalkies  04-03-2016             A\n",
       "2    823  KalyanaVaibhogame  04-03-2016         Three"
      ]
     },
     "execution_count": 13,
     "metadata": {},
     "output_type": "execute_result"
    }
   ],
   "source": [
    "ible.columns=[['number','movie','date','rating']]\n",
    "ible.head(3)"
   ]
  },
  {
   "cell_type": "code",
   "execution_count": 14,
   "metadata": {
    "collapsed": false
   },
   "outputs": [
    {
     "data": {
      "text/plain": [
       "<matplotlib.axes._subplots.AxesSubplot at 0x82b3828>"
      ]
     },
     "execution_count": 14,
     "metadata": {},
     "output_type": "execute_result"
    },
    {
     "data": {
      "image/png": "[encoded data removed]",
      "text/plain": [
       "<matplotlib.figure.Figure at 0x82b3cf8>"
      ]
     },
     "metadata": {},
     "output_type": "display_data"
    }
   ],
   "source": [
    "# Most popular are 2.5,2.0 & 3.0 respectively.\n",
    "cf.rating.value_counts().sort_index().plot(kind='bar')"
   ]
  },
  {
   "cell_type": "code",
   "execution_count": 15,
   "metadata": {
    "collapsed": false
   },
   "outputs": [
    {
     "data": {
      "text/plain": [
       "<matplotlib.axes._subplots.AxesSubplot at 0xa2ef9e8>"
      ]
     },
     "execution_count": 15,
     "metadata": {},
     "output_type": "execute_result"
    },
    {
     "data": {
      "image/png": "[encoded data removed]",
      "text/plain": [
       "<matplotlib.figure.Figure at 0xa308d68>"
      ]
     },
     "metadata": {},
     "output_type": "display_data"
    }
   ],
   "source": [
    "# Most popular are 3 and 3.25 respectively.\n",
    "ible.rating.value_counts().head(10).sort_index().plot(kind='bar')"
   ]
  }
 ],
 "metadata": {
  "kernelspec": {
   "display_name": "Python 2",
   "language": "python",
   "name": "python2"
  },
  "language_info": {
   "codemirror_mode": {
    "name": "ipython",
    "version": 2
   },
   "file_extension": ".py",
   "mimetype": "text/x-python",
   "name": "python",
   "nbconvert_exporter": "python",
   "pygments_lexer": "ipython2",
   "version": "2.7.11"
  }
 },
 "nbformat": 4,
 "nbformat_minor": 0
}
